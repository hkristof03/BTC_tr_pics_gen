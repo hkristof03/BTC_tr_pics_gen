{
 "cells": [
  {
   "cell_type": "code",
   "execution_count": 1,
   "metadata": {},
   "outputs": [
    {
     "name": "stderr",
     "output_type": "stream",
     "text": [
      "c:\\users\\hkris\\appdata\\local\\programs\\python\\python35\\lib\\site-packages\\h5py\\__init__.py:36: FutureWarning: Conversion of the second argument of issubdtype from `float` to `np.floating` is deprecated. In future, it will be treated as `np.float64 == np.dtype(float).type`.\n",
      "  from ._conv import register_converters as _register_converters\n",
      "Using TensorFlow backend.\n"
     ]
    }
   ],
   "source": [
    "'''\n",
    "import pandas as pd\n",
    "from keras.layers import Input, Dense, Conv2D, MaxPooling2D, UpSampling2D\n",
    "from keras.models import Model\n",
    "from keras import backend as K\n",
    "from keras.preprocessing.image import ImageDataGenerator\n",
    "'''\n",
    "\n",
    "from keras.models import Sequential\n",
    "from keras.preprocessing.image import ImageDataGenerator\n",
    "from keras.layers import Dense, Activation, Flatten, Dropout, BatchNormalization\n",
    "from keras.layers import Conv2D, MaxPooling2D\n",
    "from keras import regularizers, optimizers\n",
    "from keras.optimizers import SGD\n",
    "from keras.callbacks import EarlyStopping\n",
    "\n",
    "import pandas as pd\n",
    "import numpy as np\n",
    "'''\n",
    "# dimensions of our images.\n",
    "img_width, img_height = 512, 512\n",
    "\n",
    "nb_train_samples = 24\n",
    "nb_validation_samples = 10\n",
    "nb_epoch = 10\n",
    "batch_size = 32\n",
    "\n",
    "input_img = Input(shape=(img_width, img_height, 3))  # adapt this if using `channels_first` image data format\n",
    "'''\n",
    "train_data_dir = r'D:\\bme\\Önlabor\\Transaction_Graph\\Test\\train\\train'\n",
    "validation_data_dir = r'D:\\bme\\Önlabor\\Transaction_Graph\\Test\\valid\\valid'"
   ]
  },
  {
   "cell_type": "code",
   "execution_count": 2,
   "metadata": {},
   "outputs": [],
   "source": [
    "train_df = pd.read_csv('bh_ct_vol_wp_first.csv')"
   ]
  },
  {
   "cell_type": "code",
   "execution_count": 3,
   "metadata": {},
   "outputs": [
    {
     "data": {
      "text/html": [
       "<div>\n",
       "<style scoped>\n",
       "    .dataframe tbody tr th:only-of-type {\n",
       "        vertical-align: middle;\n",
       "    }\n",
       "\n",
       "    .dataframe tbody tr th {\n",
       "        vertical-align: top;\n",
       "    }\n",
       "\n",
       "    .dataframe thead th {\n",
       "        text-align: right;\n",
       "    }\n",
       "</style>\n",
       "<table border=\"1\" class=\"dataframe\">\n",
       "  <thead>\n",
       "    <tr style=\"text-align: right;\">\n",
       "      <th></th>\n",
       "      <th>block_heights</th>\n",
       "      <th>creation_times</th>\n",
       "      <th>volatilites</th>\n",
       "      <th>weighted_prices</th>\n",
       "    </tr>\n",
       "  </thead>\n",
       "  <tbody>\n",
       "    <tr>\n",
       "      <th>0</th>\n",
       "      <td>493543</td>\n",
       "      <td>2017-11-08 00:11:01</td>\n",
       "      <td>0.003757</td>\n",
       "      <td>7088.678781</td>\n",
       "    </tr>\n",
       "    <tr>\n",
       "      <th>1</th>\n",
       "      <td>493544</td>\n",
       "      <td>2017-11-08 00:15:50</td>\n",
       "      <td>0.006280</td>\n",
       "      <td>7088.832442</td>\n",
       "    </tr>\n",
       "    <tr>\n",
       "      <th>2</th>\n",
       "      <td>493545</td>\n",
       "      <td>2017-11-08 00:18:30</td>\n",
       "      <td>0.006280</td>\n",
       "      <td>7088.832442</td>\n",
       "    </tr>\n",
       "    <tr>\n",
       "      <th>3</th>\n",
       "      <td>498307</td>\n",
       "      <td>2017-12-09 00:00:23</td>\n",
       "      <td>0.045094</td>\n",
       "      <td>15900.335522</td>\n",
       "    </tr>\n",
       "    <tr>\n",
       "      <th>4</th>\n",
       "      <td>498308</td>\n",
       "      <td>2017-12-09 00:12:41</td>\n",
       "      <td>0.008015</td>\n",
       "      <td>15887.100513</td>\n",
       "    </tr>\n",
       "  </tbody>\n",
       "</table>\n",
       "</div>"
      ],
      "text/plain": [
       "   block_heights       creation_times  volatilites  weighted_prices\n",
       "0         493543  2017-11-08 00:11:01     0.003757      7088.678781\n",
       "1         493544  2017-11-08 00:15:50     0.006280      7088.832442\n",
       "2         493545  2017-11-08 00:18:30     0.006280      7088.832442\n",
       "3         498307  2017-12-09 00:00:23     0.045094     15900.335522\n",
       "4         498308  2017-12-09 00:12:41     0.008015     15887.100513"
      ]
     },
     "execution_count": 3,
     "metadata": {},
     "output_type": "execute_result"
    }
   ],
   "source": [
    "train_df.head()"
   ]
  },
  {
   "cell_type": "code",
   "execution_count": 3,
   "metadata": {},
   "outputs": [],
   "source": [
    "datagen=ImageDataGenerator(rescale=1./255.,validation_split=0.25)   #validation split!"
   ]
  },
  {
   "cell_type": "code",
   "execution_count": 4,
   "metadata": {},
   "outputs": [],
   "source": [
    "img_width, img_height = 256, 256"
   ]
  },
  {
   "cell_type": "code",
   "execution_count": 5,
   "metadata": {},
   "outputs": [
    {
     "name": "stdout",
     "output_type": "stream",
     "text": [
      "Found 174 images.\n",
      "Found 57 images.\n"
     ]
    }
   ],
   "source": [
    "train_generator=datagen.flow_from_dataframe(\n",
    "dataframe=train_df,\n",
    "directory=train_data_dir,\n",
    "x_col=\"block_heights\",\n",
    "y_col=\"volatilites\",\n",
    "has_ext=False,      #x_col column doesnt has the file extensions\n",
    "subset=\"training\",\n",
    "batch_size=6,\n",
    "seed=42,\n",
    "shuffle=True,\n",
    "class_mode=\"other\",  #for regression other should be used\n",
    "target_size=(img_width, img_height))\n",
    "\n",
    "\n",
    "\n",
    "valid_generator=datagen.flow_from_dataframe(\n",
    "dataframe=train_df,\n",
    "directory=train_data_dir,\n",
    "x_col=\"block_heights\",\n",
    "y_col=\"volatilites\",\n",
    "has_ext=False,\n",
    "subset=\"validation\",\n",
    "batch_size=6,\n",
    "seed=42,\n",
    "shuffle=True,\n",
    "class_mode=\"other\",\n",
    "target_size=(img_width, img_height))"
   ]
  },
  {
   "cell_type": "code",
   "execution_count": 14,
   "metadata": {},
   "outputs": [],
   "source": [
    "model = Sequential()\n",
    "model.add(Conv2D(32, (3, 3), padding='same',input_shape=(img_width, img_height,3)))\n",
    "model.add(Activation('relu'))\n",
    "model.add(Conv2D(32, (3, 3)))\n",
    "model.add(Activation('relu'))\n",
    "model.add(MaxPooling2D(pool_size=(2, 2)))\n",
    "model.add(Dropout(0.25))\n",
    "model.add(Conv2D(64, (3, 3), padding='same'))\n",
    "model.add(Activation('relu'))\n",
    "model.add(Conv2D(64, (3, 3)))\n",
    "model.add(Activation('relu'))\n",
    "model.add(MaxPooling2D(pool_size=(2, 2)))\n",
    "model.add(Dropout(0.25))\n",
    "model.add(Flatten())\n",
    "model.add(Dense(512))\n",
    "model.add(Activation('relu'))\n",
    "model.add(Dropout(0.5))\n",
    "model.add(Dense(1))\n",
    "\n",
    "\n",
    "sgd = SGD(lr=0.01, decay=1e-7, momentum=.9)\n",
    "    \n",
    "early_stop = EarlyStopping(monitor='val_loss', patience=7, verbose=1, mode='auto')\n",
    "\n",
    "model.compile(loss='mse', optimizer='rmsprop')"
   ]
  },
  {
   "cell_type": "code",
   "execution_count": 15,
   "metadata": {},
   "outputs": [
    {
     "name": "stdout",
     "output_type": "stream",
     "text": [
      "Epoch 1/10\n",
      "29/29 [==============================] - 102s 4s/step - loss: 166.7360 - val_loss: 0.0017\n",
      "Epoch 2/10\n",
      "29/29 [==============================] - 129s 4s/step - loss: 0.0015 - val_loss: 3.3683e-04\n",
      "Epoch 3/10\n",
      "29/29 [==============================] - 97s 3s/step - loss: 3.9640e-04 - val_loss: 2.7705e-04\n",
      "Epoch 4/10\n",
      "29/29 [==============================] - 94s 3s/step - loss: 3.6671e-04 - val_loss: 1.2788e-04\n",
      "Epoch 5/10\n",
      "29/29 [==============================] - 107s 4s/step - loss: 3.3589e-04 - val_loss: 1.2037e-04\n",
      "Epoch 6/10\n",
      "29/29 [==============================] - 100s 3s/step - loss: 3.1523e-04 - val_loss: 1.0395e-04\n",
      "Epoch 7/10\n",
      "29/29 [==============================] - 96s 3s/step - loss: 3.3758e-04 - val_loss: 1.5435e-04\n",
      "Epoch 8/10\n",
      "29/29 [==============================] - 97s 3s/step - loss: 3.5330e-04 - val_loss: 3.3881e-04\n",
      "Epoch 9/10\n",
      "29/29 [==============================] - 80s 3s/step - loss: 0.0133 - val_loss: 1.5327e-04\n",
      "Epoch 10/10\n",
      "29/29 [==============================] - 80s 3s/step - loss: 2.9859e-04 - val_loss: 1.8705e-04\n"
     ]
    },
    {
     "data": {
      "text/plain": [
       "<keras.callbacks.History at 0x17195bb99b0>"
      ]
     },
     "execution_count": 15,
     "metadata": {},
     "output_type": "execute_result"
    }
   ],
   "source": [
    "STEP_SIZE_TRAIN=train_generator.n//train_generator.batch_size\n",
    "STEP_SIZE_VALID=valid_generator.n//valid_generator.batch_size\n",
    "\n",
    "model.fit_generator(generator=train_generator,\n",
    "                    steps_per_epoch=STEP_SIZE_TRAIN,\n",
    "                    validation_data=valid_generator,\n",
    "                    validation_steps=STEP_SIZE_VALID,\n",
    "                    epochs=10\n",
    "                   )"
   ]
  },
  {
   "cell_type": "code",
   "execution_count": null,
   "metadata": {},
   "outputs": [],
   "source": []
  },
  {
   "cell_type": "code",
   "execution_count": 6,
   "metadata": {},
   "outputs": [],
   "source": [
    "from keras import models\n",
    "from keras import layers\n",
    "from keras.callbacks import TensorBoard\n",
    "from keras.applications.inception_v3 import InceptionV3"
   ]
  },
  {
   "cell_type": "code",
   "execution_count": 7,
   "metadata": {},
   "outputs": [],
   "source": [
    "conv_base = InceptionV3(weights='imagenet', include_top=False, input_shape=(256,256,3))\n",
    "\n",
    "model = models.Sequential()\n",
    "model.add(conv_base)\n",
    "model.add(Dropout(0.25))\n",
    "model.add(Flatten())\n",
    "model.add(Dense(512))\n",
    "model.add(Activation('relu'))\n",
    "model.add(Dropout(0.5))\n",
    "model.add(Dense(1))"
   ]
  },
  {
   "cell_type": "code",
   "execution_count": 9,
   "metadata": {},
   "outputs": [
    {
     "data": {
      "text/plain": [
       "192"
      ]
     },
     "execution_count": 9,
     "metadata": {},
     "output_type": "execute_result"
    }
   ],
   "source": [
    "len(model.trainable_weights)"
   ]
  },
  {
   "cell_type": "code",
   "execution_count": 8,
   "metadata": {},
   "outputs": [],
   "source": [
    "conv_base.trainable = False"
   ]
  },
  {
   "cell_type": "code",
   "execution_count": 12,
   "metadata": {},
   "outputs": [
    {
     "data": {
      "text/plain": [
       "4"
      ]
     },
     "execution_count": 12,
     "metadata": {},
     "output_type": "execute_result"
    }
   ],
   "source": [
    "len(model.trainable_weights)"
   ]
  },
  {
   "cell_type": "code",
   "execution_count": 12,
   "metadata": {},
   "outputs": [
    {
     "data": {
      "text/plain": [
       "'\\nValueError: If printing histograms, validation_data must be provided, and cannot be a generator.\\n\\nChange histogram_freq=10 to histogram_freq=0 you can still use tensor board with this fix \\nrather than removing it all together.\\n'"
      ]
     },
     "execution_count": 12,
     "metadata": {},
     "output_type": "execute_result"
    }
   ],
   "source": [
    "callbacks = [\n",
    "TensorBoard(\n",
    "log_dir=r'D:\\bme\\Szakdolgozat\\Volatility_windows\\ConvNet\\TensorBoard_logdir',\n",
    "histogram_freq=0,\n",
    ")]\n",
    "\n",
    "'''\n",
    "ValueError: If printing histograms, validation_data must be provided, and cannot be a generator.\n",
    "\n",
    "Change histogram_freq=10 to histogram_freq=0 you can still use tensor board with this fix \n",
    "rather than removing it all together.\n",
    "'''"
   ]
  },
  {
   "cell_type": "code",
   "execution_count": 13,
   "metadata": {},
   "outputs": [],
   "source": [
    "sgd = SGD(lr=0.01, decay=1e-7, momentum=.9)\n",
    "    \n",
    "early_stop = EarlyStopping(monitor='val_loss', patience=7, verbose=1, mode='auto')\n",
    "\n",
    "model.compile(loss='mse', optimizer='rmsprop', metrics=['mse', 'mae', 'msle', 'mape', 'cosine'])"
   ]
  },
  {
   "cell_type": "code",
   "execution_count": 14,
   "metadata": {},
   "outputs": [
    {
     "name": "stdout",
     "output_type": "stream",
     "text": [
      "Epoch 1/20\n",
      "29/29 [==============================] - 77s 3s/step - loss: 526.0051 - mean_squared_error: 526.0051 - mean_absolute_error: 9.0006 - mean_squared_logarithmic_error: 1.3106 - mean_absolute_percentage_error: 78128.9019 - cosine_proximity: -0.0690 - val_loss: 0.0533 - val_mean_squared_error: 0.0533 - val_mean_absolute_error: 0.1851 - val_mean_squared_logarithmic_error: 0.0035 - val_mean_absolute_percentage_error: 2281.4741 - val_cosine_proximity: 0.4444\n",
      "Epoch 2/20\n",
      "29/29 [==============================] - 96s 3s/step - loss: 1.0660 - mean_squared_error: 1.0660 - mean_absolute_error: 0.6913 - mean_squared_logarithmic_error: 0.1522 - mean_absolute_percentage_error: 8357.2131 - cosine_proximity: 0.0805 - val_loss: 0.0053 - val_mean_squared_error: 0.0053 - val_mean_absolute_error: 0.0682 - val_mean_squared_logarithmic_error: 0.0048 - val_mean_absolute_percentage_error: 900.3023 - val_cosine_proximity: -1.0000\n",
      "Epoch 3/20\n",
      "29/29 [==============================] - 78s 3s/step - loss: 0.0594 - mean_squared_error: 0.0594 - mean_absolute_error: 0.1010 - mean_squared_logarithmic_error: 0.0117 - mean_absolute_percentage_error: 1346.3093 - cosine_proximity: -0.1954 - val_loss: 3.5846e-04 - val_mean_squared_error: 3.5846e-04 - val_mean_absolute_error: 0.0154 - val_mean_squared_logarithmic_error: 3.3020e-04 - val_mean_absolute_percentage_error: 106.4434 - val_cosine_proximity: 1.0000\n",
      "Epoch 4/20\n",
      "29/29 [==============================] - 78s 3s/step - loss: 0.0060 - mean_squared_error: 0.0060 - mean_absolute_error: 0.0360 - mean_squared_logarithmic_error: 0.0026 - mean_absolute_percentage_error: 514.2934 - cosine_proximity: -0.4713 - val_loss: 2.4887e-04 - val_mean_squared_error: 2.4887e-04 - val_mean_absolute_error: 0.0120 - val_mean_squared_logarithmic_error: 2.4117e-04 - val_mean_absolute_percentage_error: 80.4081 - val_cosine_proximity: -1.0000\n",
      "Epoch 5/20\n",
      "29/29 [==============================] - 77s 3s/step - loss: 0.0052 - mean_squared_error: 0.0052 - mean_absolute_error: 0.0273 - mean_squared_logarithmic_error: 6.4316e-04 - mean_absolute_percentage_error: 191.8507 - cosine_proximity: -0.9080 - val_loss: 1.0600e-04 - val_mean_squared_error: 1.0600e-04 - val_mean_absolute_error: 0.0071 - val_mean_squared_logarithmic_error: 1.0156e-04 - val_mean_absolute_percentage_error: 63.1278 - val_cosine_proximity: -1.0000\n",
      "Epoch 6/20\n",
      "29/29 [==============================] - 93s 3s/step - loss: 0.0985 - mean_squared_error: 0.0985 - mean_absolute_error: 0.0399 - mean_squared_logarithmic_error: 0.0155 - mean_absolute_percentage_error: 3735.6964 - cosine_proximity: -0.9770 - val_loss: 1.7559e-04 - val_mean_squared_error: 1.7559e-04 - val_mean_absolute_error: 0.0101 - val_mean_squared_logarithmic_error: 1.6775e-04 - val_mean_absolute_percentage_error: 96.1474 - val_cosine_proximity: -1.0000\n",
      "Epoch 7/20\n",
      "29/29 [==============================] - 88s 3s/step - loss: 0.0091 - mean_squared_error: 0.0091 - mean_absolute_error: 0.0191 - mean_squared_logarithmic_error: 0.0041 - mean_absolute_percentage_error: 1181.8293 - cosine_proximity: -1.0000 - val_loss: 6.5223e-05 - val_mean_squared_error: 6.5223e-05 - val_mean_absolute_error: 0.0069 - val_mean_squared_logarithmic_error: 6.3114e-05 - val_mean_absolute_percentage_error: 82.3493 - val_cosine_proximity: -1.0000\n",
      "Epoch 8/20\n",
      "29/29 [==============================] - 88s 3s/step - loss: 0.0032 - mean_squared_error: 0.0032 - mean_absolute_error: 0.0174 - mean_squared_logarithmic_error: 0.0018 - mean_absolute_percentage_error: 209.5261 - cosine_proximity: -0.9770 - val_loss: 1.5692e-04 - val_mean_squared_error: 1.5692e-04 - val_mean_absolute_error: 0.0112 - val_mean_squared_logarithmic_error: 1.5129e-04 - val_mean_absolute_percentage_error: 160.8774 - val_cosine_proximity: -1.0000\n",
      "Epoch 9/20\n",
      "29/29 [==============================] - 79s 3s/step - loss: 0.0189 - mean_squared_error: 0.0189 - mean_absolute_error: 0.0221 - mean_squared_logarithmic_error: 2.6405e-04 - mean_absolute_percentage_error: 235.9776 - cosine_proximity: -0.9885 - val_loss: 2.1260e-04 - val_mean_squared_error: 2.1260e-04 - val_mean_absolute_error: 0.0134 - val_mean_squared_logarithmic_error: 2.0488e-04 - val_mean_absolute_percentage_error: 196.9104 - val_cosine_proximity: -1.0000\n",
      "Epoch 10/20\n",
      "29/29 [==============================] - 81s 3s/step - loss: 0.0012 - mean_squared_error: 0.0012 - mean_absolute_error: 0.0146 - mean_squared_logarithmic_error: 8.9067e-04 - mean_absolute_percentage_error: 182.1081 - cosine_proximity: -1.0000 - val_loss: 1.3714e-04 - val_mean_squared_error: 1.3714e-04 - val_mean_absolute_error: 0.0104 - val_mean_squared_logarithmic_error: 1.3267e-04 - val_mean_absolute_percentage_error: 142.4932 - val_cosine_proximity: -1.0000\n",
      "Epoch 11/20\n",
      "29/29 [==============================] - 86s 3s/step - loss: 2.7046e-04 - mean_squared_error: 2.7046e-04 - mean_absolute_error: 0.0117 - mean_squared_logarithmic_error: 2.5278e-04 - mean_absolute_percentage_error: 156.1324 - cosine_proximity: -1.0000 - val_loss: 1.5520e-04 - val_mean_squared_error: 1.5520e-04 - val_mean_absolute_error: 0.0110 - val_mean_squared_logarithmic_error: 1.4972e-04 - val_mean_absolute_percentage_error: 156.4718 - val_cosine_proximity: -1.0000\n",
      "Epoch 12/20\n",
      "29/29 [==============================] - 114s 4s/step - loss: 0.0031 - mean_squared_error: 0.0031 - mean_absolute_error: 0.0155 - mean_squared_logarithmic_error: 0.0018 - mean_absolute_percentage_error: 164.9858 - cosine_proximity: -1.0000 - val_loss: 1.4499e-04 - val_mean_squared_error: 1.4499e-04 - val_mean_absolute_error: 0.0104 - val_mean_squared_logarithmic_error: 1.3966e-04 - val_mean_absolute_percentage_error: 142.1039 - val_cosine_proximity: -1.0000\n",
      "Epoch 13/20\n",
      "29/29 [==============================] - 93s 3s/step - loss: 3.8017e-04 - mean_squared_error: 3.8017e-04 - mean_absolute_error: 0.0124 - mean_squared_logarithmic_error: 3.0259e-04 - mean_absolute_percentage_error: 194.4823 - cosine_proximity: -0.9885 - val_loss: 1.3710e-04 - val_mean_squared_error: 1.3710e-04 - val_mean_absolute_error: 0.0107 - val_mean_squared_logarithmic_error: 1.3299e-04 - val_mean_absolute_percentage_error: 163.0556 - val_cosine_proximity: -1.0000\n",
      "Epoch 14/20\n",
      "29/29 [==============================] - 87s 3s/step - loss: 2.6983e-04 - mean_squared_error: 2.6983e-04 - mean_absolute_error: 0.0117 - mean_squared_logarithmic_error: 2.5220e-04 - mean_absolute_percentage_error: 156.5881 - cosine_proximity: -1.0000 - val_loss: 1.6447e-04 - val_mean_squared_error: 1.6447e-04 - val_mean_absolute_error: 0.0109 - val_mean_squared_logarithmic_error: 1.5794e-04 - val_mean_absolute_percentage_error: 142.9127 - val_cosine_proximity: -1.0000\n",
      "Epoch 15/20\n",
      "29/29 [==============================] - 79s 3s/step - loss: 0.0051 - mean_squared_error: 0.0051 - mean_absolute_error: 0.0171 - mean_squared_logarithmic_error: 2.5873e-04 - mean_absolute_percentage_error: 190.2915 - cosine_proximity: -0.9885 - val_loss: 2.0497e-04 - val_mean_squared_error: 2.0497e-04 - val_mean_absolute_error: 0.0132 - val_mean_squared_logarithmic_error: 1.9847e-04 - val_mean_absolute_percentage_error: 181.6404 - val_cosine_proximity: -1.0000\n",
      "Epoch 16/20\n",
      "29/29 [==============================] - 84s 3s/step - loss: 7.0724e-04 - mean_squared_error: 7.0724e-04 - mean_absolute_error: 0.0137 - mean_squared_logarithmic_error: 5.8193e-04 - mean_absolute_percentage_error: 172.8079 - cosine_proximity: -1.0000 - val_loss: 1.7466e-04 - val_mean_squared_error: 1.7466e-04 - val_mean_absolute_error: 0.0116 - val_mean_squared_logarithmic_error: 1.6816e-04 - val_mean_absolute_percentage_error: 173.9998 - val_cosine_proximity: -1.0000\n",
      "Epoch 17/20\n",
      "29/29 [==============================] - 69s 2s/step - loss: 8.1349e-04 - mean_squared_error: 8.1349e-04 - mean_absolute_error: 0.0134 - mean_squared_logarithmic_error: 6.4955e-04 - mean_absolute_percentage_error: 157.3838 - cosine_proximity: -1.0000 - val_loss: 1.4374e-04 - val_mean_squared_error: 1.4374e-04 - val_mean_absolute_error: 0.0108 - val_mean_squared_logarithmic_error: 1.3896e-04 - val_mean_absolute_percentage_error: 150.3580 - val_cosine_proximity: -1.0000\n",
      "Epoch 18/20\n"
     ]
    },
    {
     "name": "stdout",
     "output_type": "stream",
     "text": [
      "29/29 [==============================] - 69s 2s/step - loss: 2.7420e-04 - mean_squared_error: 2.7420e-04 - mean_absolute_error: 0.0120 - mean_squared_logarithmic_error: 2.5170e-04 - mean_absolute_percentage_error: 158.6891 - cosine_proximity: -0.9885 - val_loss: 1.3169e-04 - val_mean_squared_error: 1.3169e-04 - val_mean_absolute_error: 0.0100 - val_mean_squared_logarithmic_error: 1.2693e-04 - val_mean_absolute_percentage_error: 139.5899 - val_cosine_proximity: -1.0000\n",
      "Epoch 19/20\n",
      "29/29 [==============================] - 69s 2s/step - loss: 2.7304e-04 - mean_squared_error: 2.7304e-04 - mean_absolute_error: 0.0119 - mean_squared_logarithmic_error: 2.5521e-04 - mean_absolute_percentage_error: 155.8825 - cosine_proximity: -1.0000 - val_loss: 1.5687e-04 - val_mean_squared_error: 1.5687e-04 - val_mean_absolute_error: 0.0111 - val_mean_squared_logarithmic_error: 1.5125e-04 - val_mean_absolute_percentage_error: 155.2034 - val_cosine_proximity: -1.0000\n",
      "Epoch 20/20\n",
      "29/29 [==============================] - 68s 2s/step - loss: 3.6968e-04 - mean_squared_error: 3.6968e-04 - mean_absolute_error: 0.0127 - mean_squared_logarithmic_error: 2.5536e-04 - mean_absolute_percentage_error: 164.8564 - cosine_proximity: -0.9885 - val_loss: 1.5341e-04 - val_mean_squared_error: 1.5341e-04 - val_mean_absolute_error: 0.0109 - val_mean_squared_logarithmic_error: 1.4788e-04 - val_mean_absolute_percentage_error: 142.9287 - val_cosine_proximity: -1.0000\n"
     ]
    }
   ],
   "source": [
    "STEP_SIZE_TRAIN=train_generator.n//train_generator.batch_size\n",
    "STEP_SIZE_VALID=valid_generator.n//valid_generator.batch_size\n",
    "\n",
    "history = model.fit_generator(generator=train_generator,\n",
    "                    steps_per_epoch=STEP_SIZE_TRAIN,\n",
    "                    validation_data=valid_generator,\n",
    "                    validation_steps=STEP_SIZE_VALID,\n",
    "                    epochs=20,\n",
    "                    callbacks=callbacks,\n",
    "                   )"
   ]
  },
  {
   "cell_type": "code",
   "execution_count": 16,
   "metadata": {},
   "outputs": [
    {
     "data": {
      "text/plain": [
       "{'cosine_proximity': [-0.06896551792649012,\n",
       "  0.08045976668938823,\n",
       "  -0.19540230364635064,\n",
       "  -0.4712643674735365,\n",
       "  -0.908045971188052,\n",
       "  -0.9770114812357672,\n",
       "  -0.9999999835573393,\n",
       "  -0.9770114689037718,\n",
       "  -0.9885057395902174,\n",
       "  -0.999999975336009,\n",
       "  -0.9999999917786697,\n",
       "  -0.9999999773913416,\n",
       "  -0.9885057354795521,\n",
       "  -0.9999999938340023,\n",
       "  -0.9885057395902174,\n",
       "  -0.9999999897233371,\n",
       "  -0.9999999897233371,\n",
       "  -0.9885057395902174,\n",
       "  -0.9999999917786697,\n",
       "  -0.9885057416455499],\n",
       " 'loss': [526.0051020178302,\n",
       "  1.0659812166644582,\n",
       "  0.05940373766472852,\n",
       "  0.005995278758024958,\n",
       "  0.0051889910206102344,\n",
       "  0.09849526071938554,\n",
       "  0.009125132909659817,\n",
       "  0.003208964189227494,\n",
       "  0.018942328905691756,\n",
       "  0.0012025935204041287,\n",
       "  0.0002704614014184134,\n",
       "  0.0031400495050108693,\n",
       "  0.00038017297930341084,\n",
       "  0.0002698271644099993,\n",
       "  0.005059340017459332,\n",
       "  0.0007072380915282149,\n",
       "  0.0008134859228197582,\n",
       "  0.00027420402856760434,\n",
       "  0.000273038053725533,\n",
       "  0.0003696752763313145],\n",
       " 'mean_absolute_error': [9.000552031500586,\n",
       "  0.691337831575295,\n",
       "  0.10102545707647143,\n",
       "  0.035988907490311,\n",
       "  0.02728753292868877,\n",
       "  0.039897772082095516,\n",
       "  0.019116398798109127,\n",
       "  0.017449514009058475,\n",
       "  0.022120073823065592,\n",
       "  0.014601141647917443,\n",
       "  0.011703390868958729,\n",
       "  0.015525744344782213,\n",
       "  0.012449421727194869,\n",
       "  0.011747870762864578,\n",
       "  0.017120353443997687,\n",
       "  0.013699041245954818,\n",
       "  0.013389202958807862,\n",
       "  0.011955476365983486,\n",
       "  0.011850236320932364,\n",
       "  0.012686053949311889],\n",
       " 'mean_absolute_percentage_error': [78128.9019059806,\n",
       "  8357.213124242322,\n",
       "  1346.3092685567922,\n",
       "  514.2933907344424,\n",
       "  191.85074063005118,\n",
       "  3735.696389099647,\n",
       "  1181.8292725003998,\n",
       "  209.52612857160898,\n",
       "  235.9775893770415,\n",
       "  182.1081164129849,\n",
       "  156.1323767037227,\n",
       "  164.98583445055732,\n",
       "  194.48230835487104,\n",
       "  156.58813904071675,\n",
       "  190.29154205322266,\n",
       "  172.80786573475805,\n",
       "  157.3838237236286,\n",
       "  158.6890813235579,\n",
       "  155.88247246577822,\n",
       "  164.85635967912344],\n",
       " 'mean_squared_error': [526.0051020178302,\n",
       "  1.0659812166644582,\n",
       "  0.05940373766472852,\n",
       "  0.005995278758024958,\n",
       "  0.0051889910206102344,\n",
       "  0.09849526071938554,\n",
       "  0.009125132909659817,\n",
       "  0.003208964189227494,\n",
       "  0.018942328905691756,\n",
       "  0.0012025935204041287,\n",
       "  0.0002704614014184134,\n",
       "  0.0031400495050108693,\n",
       "  0.00038017297930341084,\n",
       "  0.0002698271644099993,\n",
       "  0.005059340017459332,\n",
       "  0.0007072380915282149,\n",
       "  0.0008134859228197582,\n",
       "  0.00027420402856760434,\n",
       "  0.000273038053725533,\n",
       "  0.0003696752763313145],\n",
       " 'mean_squared_logarithmic_error': [1.3106081858006353,\n",
       "  0.15221663093965115,\n",
       "  0.011689846009489727,\n",
       "  0.0026363364284344272,\n",
       "  0.0006431639949682746,\n",
       "  0.015514668090276998,\n",
       "  0.0040507991482094255,\n",
       "  0.0017604666079870216,\n",
       "  0.0002640509784245735,\n",
       "  0.0008906703481223868,\n",
       "  0.0002527778540689755,\n",
       "  0.0018342802107734566,\n",
       "  0.00030258963356729886,\n",
       "  0.00025220330274445087,\n",
       "  0.00025872543947429974,\n",
       "  0.0005819337780723862,\n",
       "  0.000649553880066378,\n",
       "  0.00025170021273942405,\n",
       "  0.0002552057691179376,\n",
       "  0.00025536372263088887],\n",
       " 'val_cosine_proximity': [0.4444444245762295,\n",
       "  -0.9999999859753776,\n",
       "  0.9999999929876888,\n",
       "  -0.9999999894815332,\n",
       "  -1.0,\n",
       "  -1.0,\n",
       "  -1.0,\n",
       "  -0.9999999929876888,\n",
       "  -0.999999950913822,\n",
       "  -0.999999957926133,\n",
       "  -1.0,\n",
       "  -0.999999957926133,\n",
       "  -0.9999999929876888,\n",
       "  -0.999999957926133,\n",
       "  -0.999999957926133,\n",
       "  -0.9999999439015108,\n",
       "  -1.0,\n",
       "  -1.0,\n",
       "  -0.9999999929876888,\n",
       "  -1.0],\n",
       " 'val_loss': [0.05332996489273177,\n",
       "  0.00532570159446229,\n",
       "  0.0003584587821558885,\n",
       "  0.00024886682470370196,\n",
       "  0.00010600045296836041,\n",
       "  0.00017559478382121168,\n",
       "  6.522263463600265e-05,\n",
       "  0.0001569190584739451,\n",
       "  0.00021260152724982405,\n",
       "  0.0001371420409722144,\n",
       "  0.000155204182697667,\n",
       "  0.00014498859887038742,\n",
       "  0.00013710375402725358,\n",
       "  0.00016446875473347436,\n",
       "  0.00020497045411235269,\n",
       "  0.00017465972290237378,\n",
       "  0.00014374214857953657,\n",
       "  0.00013168554270283922,\n",
       "  0.0001568675969097325,\n",
       "  0.00015340696443351642],\n",
       " 'val_mean_absolute_error': [0.18508602844344246,\n",
       "  0.06817139838548268,\n",
       "  0.015377692659111583,\n",
       "  0.011984017020200981,\n",
       "  0.007143765140105696,\n",
       "  0.010121351464048904,\n",
       "  0.0069397567387889415,\n",
       "  0.011153650908347438,\n",
       "  0.013350856983486344,\n",
       "  0.01041260630111484,\n",
       "  0.011044434737414122,\n",
       "  0.010398061343413941,\n",
       "  0.01065122538848835,\n",
       "  0.010926333201282164,\n",
       "  0.013170897412826033,\n",
       "  0.0116482534829308,\n",
       "  0.010792661841739626,\n",
       "  0.009964839664890486,\n",
       "  0.011146849021315575,\n",
       "  0.010930901941131143],\n",
       " 'val_mean_absolute_percentage_error': [2281.47412109375,\n",
       "  900.3023250804227,\n",
       "  106.44336117015166,\n",
       "  80.40814478257123,\n",
       "  63.127773733700025,\n",
       "  96.14740573658662,\n",
       "  82.349292530733,\n",
       "  160.87743961109834,\n",
       "  196.9103873757755,\n",
       "  142.49318291159238,\n",
       "  156.47181701660156,\n",
       "  142.10390090942383,\n",
       "  163.05556757309859,\n",
       "  142.91269549201516,\n",
       "  181.64039252786074,\n",
       "  173.9998047772576,\n",
       "  150.35796535716338,\n",
       "  139.58993036606734,\n",
       "  155.20344610775217,\n",
       "  142.9286647123449],\n",
       " 'val_mean_squared_error': [0.05332996489273177,\n",
       "  0.00532570159446229,\n",
       "  0.0003584587821558885,\n",
       "  0.00024886682470370196,\n",
       "  0.00010600045296836041,\n",
       "  0.00017559478382121168,\n",
       "  6.522263463600265e-05,\n",
       "  0.0001569190584739451,\n",
       "  0.00021260152724982405,\n",
       "  0.0001371420409722144,\n",
       "  0.000155204182697667,\n",
       "  0.00014498859887038742,\n",
       "  0.00013710375402725358,\n",
       "  0.00016446875473347436,\n",
       "  0.00020497045411235269,\n",
       "  0.00017465972290237378,\n",
       "  0.00014374214857953657,\n",
       "  0.00013168554270283922,\n",
       "  0.0001568675969097325,\n",
       "  0.00015340696443351642],\n",
       " 'val_mean_squared_logarithmic_error': [0.0034822428844765657,\n",
       "  0.004801664076855078,\n",
       "  0.00033020130735274185,\n",
       "  0.00024117456547066788,\n",
       "  0.00010156209421385189,\n",
       "  0.00016774792332880143,\n",
       "  6.311383378274245e-05,\n",
       "  0.00015129270254606928,\n",
       "  0.00020488212313092148,\n",
       "  0.000132672451025642,\n",
       "  0.00014972499613779492,\n",
       "  0.00013966318703537313,\n",
       "  0.00013298608674256897,\n",
       "  0.0001579364076914156,\n",
       "  0.0001984657351653475,\n",
       "  0.00016815759847625434,\n",
       "  0.00013895529349718024,\n",
       "  0.00012693184629931827,\n",
       "  0.00015125008426634048,\n",
       "  0.00014788048086783793]}"
      ]
     },
     "execution_count": 16,
     "metadata": {},
     "output_type": "execute_result"
    }
   ],
   "source": [
    "history.history"
   ]
  },
  {
   "cell_type": "code",
   "execution_count": 23,
   "metadata": {},
   "outputs": [
    {
     "data": {
      "image/png": "[encoded data removed]",
      "text/plain": [
       "<Figure size 1440x720 with 1 Axes>"
      ]
     },
     "metadata": {},
     "output_type": "display_data"
    }
   ],
   "source": [
    "import matplotlib.pyplot as plt\n",
    "\n",
    "loss = history.history['loss'][3:]\n",
    "val_loss = history.history['val_loss'][3:]\n",
    "epochs = range(1, len(loss) + 1)\n",
    "plt.figure(figsize=(20,10))\n",
    "plt.plot(epochs, loss, 'bo', label='Training loss')\n",
    "plt.plot(epochs, val_loss, 'b', label='Validation loss')\n",
    "plt.title('Training and validation loss')\n",
    "plt.legend()\n",
    "plt.show()\n",
    "#plt.savefig('/home/hallgato-horvathkristof/Transaction_graphs/first_ConvNet/train_valid_acc.jpg')"
   ]
  },
  {
   "cell_type": "code",
   "execution_count": 18,
   "metadata": {},
   "outputs": [],
   "source": [
    "def smooth_curve(points, factor=0.8):\n",
    "    smoothed_points = []\n",
    "    for point in points:\n",
    "        if smoothed_points:\n",
    "            previous = smoothed_points[-1]\n",
    "            smoothed_points.append(previous * factor + point * (1 - factor))\n",
    "        else:\n",
    "            smoothed_points.append(point)\n",
    "    return smoothed_points"
   ]
  },
  {
   "cell_type": "code",
   "execution_count": 20,
   "metadata": {},
   "outputs": [
    {
     "data": {
      "image/png": "[encoded data removed]",
      "text/plain": [
       "<Figure size 432x288 with 1 Axes>"
      ]
     },
     "metadata": {},
     "output_type": "display_data"
    }
   ],
   "source": [
    "plt.figure()\n",
    "plt.plot(epochs,\n",
    "smooth_curve(loss), 'bo', label='Smoothed training loss')\n",
    "plt.plot(epochs,\n",
    "smooth_curve(val_loss), 'b', label='Smoothed validation loss')\n",
    "plt.title('Training and validation loss')\n",
    "plt.legend()\n",
    "plt.show()"
   ]
  },
  {
   "cell_type": "code",
   "execution_count": 25,
   "metadata": {},
   "outputs": [
    {
     "data": {
      "image/png": "[encoded data removed]",
      "text/plain": [
       "<Figure size 432x288 with 1 Axes>"
      ]
     },
     "metadata": {},
     "output_type": "display_data"
    }
   ],
   "source": [
    "loss = history.history['loss'][2:]\n",
    "val_loss = history.history['val_loss'][2:]\n",
    "epochs = range(1, len(loss) + 1)\n",
    "plt.figure()\n",
    "plt.plot(epochs, loss, 'bo', label='Training loss')\n",
    "plt.plot(epochs, val_loss, 'b', label='Validation loss')\n",
    "plt.title('Training and validation loss')\n",
    "plt.legend()\n",
    "plt.show()"
   ]
  },
  {
   "cell_type": "code",
   "execution_count": 26,
   "metadata": {},
   "outputs": [
    {
     "data": {
      "image/png": "[encoded data removed]",
      "text/plain": [
       "<Figure size 432x288 with 1 Axes>"
      ]
     },
     "metadata": {},
     "output_type": "display_data"
    }
   ],
   "source": [
    "plt.figure()\n",
    "plt.plot(epochs,\n",
    "smooth_curve(loss), 'bo', label='Smoothed training loss')\n",
    "plt.plot(epochs,\n",
    "smooth_curve(val_loss), 'b', label='Smoothed validation loss')\n",
    "plt.title('Training and validation loss')\n",
    "plt.legend()\n",
    "plt.show()"
   ]
  },
  {
   "cell_type": "code",
   "execution_count": null,
   "metadata": {},
   "outputs": [],
   "source": []
  }
 ],
 "metadata": {
  "kernelspec": {
   "display_name": "Python 3",
   "language": "python",
   "name": "python3"
  },
  "language_info": {
   "codemirror_mode": {
    "name": "ipython",
    "version": 3
   },
   "file_extension": ".py",
   "mimetype": "text/x-python",
   "name": "python",
   "nbconvert_exporter": "python",
   "pygments_lexer": "ipython3",
   "version": "3.5.2"
  }
 },
 "nbformat": 4,
 "nbformat_minor": 2
}
